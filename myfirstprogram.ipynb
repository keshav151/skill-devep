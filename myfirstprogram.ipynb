{
 "cells": [
  {
   "cell_type": "code",
   "execution_count": 2,
   "metadata": {},
   "outputs": [],
   "source": [
    "a=20 #integer type variable\n",
    "b=15\n",
    "c=2.66 #floating type variable\n",
    "d='Python' #string type variable"
   ]
  },
  {
   "cell_type": "code",
   "execution_count": 3,
   "metadata": {},
   "outputs": [
    {
     "name": "stdout",
     "output_type": "stream",
     "text": [
      "35\n",
      "5\n",
      "1.3333333333333333\n",
      "300\n"
     ]
    }
   ],
   "source": [
    "#arithmetic operations\n",
    "add=a+b    #addition\n",
    "print(add) #printing\n",
    "subs=a-b   #substraction\n",
    "print(subs)\n",
    "div=a/b    #division\n",
    "print(div)\n",
    "mul=a*b    #multiplication\n",
    "print(mul)"
   ]
  },
  {
   "cell_type": "code",
   "execution_count": 4,
   "metadata": {},
   "outputs": [
    {
     "name": "stdout",
     "output_type": "stream",
     "text": [
      "0.75\n",
      "32768000000000000000\n",
      "5\n",
      "0.0\n"
     ]
    }
   ],
   "source": [
    "#some more arethmetic operations\n",
    "division=b/a  # division in python 3.8 gives floating output\n",
    "print(division)\n",
    "exp=a**b     #exponential operation\n",
    "print(exp)\n",
    "mod=a%b      #modulus operator to get remainder\n",
    "print(mod)\n",
    "divi=c//b   # integer division '//' is used so we get integer type output\n",
    "print(divi)"
   ]
  },
  {
   "cell_type": "code",
   "execution_count": 5,
   "metadata": {},
   "outputs": [
    {
     "name": "stdout",
     "output_type": "stream",
     "text": [
      "True\n",
      "True\n",
      "False\n",
      "True\n",
      "False\n"
     ]
    }
   ],
   "source": [
    "# comaprison operations\n",
    "print(a>b) # as 20 is greater than 15 we get output true\n",
    "print(b<a) #as 15 is less than 20 we get output true\n",
    "print(a==b) # here we are using == operator to check whether 20 is equal to 15,therefore we get output false\n",
    "print(a!=b) # as 20 is not equal to 15 we get output true\n",
    "print(a<=b) #as 20 is not less than or equal to 15 we get output false"
   ]
  },
  {
   "cell_type": "code",
   "execution_count": 16,
   "metadata": {},
   "outputs": [],
   "source": [
    "#declaring variables for logical operation \n",
    "x=True\n",
    "y=False\n",
    "z=True\n",
    "w=False"
   ]
  },
  {
   "cell_type": "code",
   "execution_count": 28,
   "metadata": {},
   "outputs": [
    {
     "name": "stdout",
     "output_type": "stream",
     "text": [
      "False\n",
      "True\n",
      "True\n",
      "True\n",
      "False\n"
     ]
    }
   ],
   "source": [
    "r1=x and y # true and false is false\n",
    "print(r1)\n",
    "r2=x and z # true and true is true\n",
    "print(r2)\n",
    "r3=x or w #true or false is true\n",
    "print(r3)\n",
    "print(not(r1)) # negation of false is true\n",
    "print(not(r2)) # negation of true is false"
   ]
  },
  {
   "cell_type": "code",
   "execution_count": 6,
   "metadata": {},
   "outputs": [
    {
     "name": "stdout",
     "output_type": "stream",
     "text": [
      "15\n"
     ]
    }
   ],
   "source": [
    "p=5\n",
    "p+=10 # increment of variable p by 10\n",
    "print(p)"
   ]
  },
  {
   "cell_type": "code",
   "execution_count": 7,
   "metadata": {},
   "outputs": [
    {
     "name": "stdout",
     "output_type": "stream",
     "text": [
      "True\n"
     ]
    }
   ],
   "source": [
    "print('h' in 'hello,everyone') # searching for h in hello,everyone"
   ]
  },
  {
   "cell_type": "code",
   "execution_count": 8,
   "metadata": {},
   "outputs": [
    {
     "name": "stdout",
     "output_type": "stream",
     "text": [
      "Hello friends\n",
      "'blue'\n"
     ]
    }
   ],
   "source": [
    "print('Hello '+'friends') # concatenation of two strings\n",
    "print(\"'blue'\")"
   ]
  },
  {
   "cell_type": "code",
   "execution_count": 9,
   "metadata": {},
   "outputs": [
    {
     "name": "stdout",
     "output_type": "stream",
     "text": [
      "15\n"
     ]
    }
   ],
   "source": [
    "#conditional statement if-else\n",
    "if(a<b):    # here we are checking whether 20 is less than 15, if true print 15, if false move to else\n",
    "    print(a)\n",
    "else:       # as it is false, we will print b now,i.e. 15\n",
    "    print(b)"
   ]
  },
  {
   "cell_type": "code",
   "execution_count": null,
   "metadata": {},
   "outputs": [],
   "source": []
  },
  {
   "cell_type": "code",
   "execution_count": null,
   "metadata": {},
   "outputs": [],
   "source": []
  }
 ],
 "metadata": {
  "kernelspec": {
   "display_name": "Python 3",
   "language": "python",
   "name": "python3"
  },
  "language_info": {
   "codemirror_mode": {
    "name": "ipython",
    "version": 3
   },
   "file_extension": ".py",
   "mimetype": "text/x-python",
   "name": "python",
   "nbconvert_exporter": "python",
   "pygments_lexer": "ipython3",
   "version": "3.8.3"
  }
 },
 "nbformat": 4,
 "nbformat_minor": 4
}
